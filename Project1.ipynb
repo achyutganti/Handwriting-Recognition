{
 "cells": [
  {
   "cell_type": "code",
   "execution_count": 1,
   "metadata": {
    "collapsed": true
   },
   "outputs": [],
   "source": [
    "import numpy as np\n",
    "import pandas as pd\n",
    "from random import random\n",
    "# importing the csv files to respective dataframes\n",
    "df = pd.read_csv(\"C:/MachineLearning/Digit_Recognition/train.csv\")\n",
    "df2 = pd.read_csv('C:/MachineLearning/Digit_Recognition/test_data.csv')\n",
    "df3 =pd.read_csv('C:/MachineLearning/Digit_Recognition/test_labels.csv')"
   ]
  },
  {
   "cell_type": "code",
   "execution_count": 2,
   "metadata": {
    "collapsed": true
   },
   "outputs": [],
   "source": [
    "# function to assign the weights\n",
    "def initialize_network(n_inputs, n_hidden, n_output):\n",
    "#     between input and hidden layer\n",
    "    hidden_layer = np.array([[random() * 0.01 for i in range(n_inputs + 1)] for i in range(n_hidden)])\n",
    "#     between hidden layer and output \n",
    "    output_layer = np.array([[random() * 0.01 for i in range(n_hidden + 1)] for i in range(n_output)])\n",
    "    return(hidden_layer, output_layer)"
   ]
  },
  {
   "cell_type": "code",
   "execution_count": 3,
   "metadata": {
    "collapsed": true
   },
   "outputs": [],
   "source": [
    "# initializing the weights , using 500 hidden neurons\n",
    "weights = initialize_network(784,500,10)\n",
    "hidden_weights = weights[0]\n",
    "output_weights = weights[1]"
   ]
  },
  {
   "cell_type": "code",
   "execution_count": 4,
   "metadata": {
    "collapsed": true
   },
   "outputs": [],
   "source": [
    "#Transfer neuron activation\n",
    "def sigmoid(out_hidden):\n",
    "    return 1.0/(1.0 + np.exp(-out_hidden))"
   ]
  },
  {
   "cell_type": "code",
   "execution_count": 5,
   "metadata": {
    "collapsed": true
   },
   "outputs": [],
   "source": [
    "# forward_propagation\n",
    "def forward_propagate(weights, weights1, input):\n",
    "    out_hidden = np.dot(weights, input)\n",
    "    out_inputs = sigmoid(out_hidden)\n",
    "#   adding the input for bias in output layer\n",
    "    out_inputs_b = np.concatenate((out_inputs,[[1]]),0)\n",
    "    inputs_out = np.dot(weights1, out_inputs_b)  \n",
    "    output = sigmoid(inputs_out)\n",
    "    return (output, out_inputs)\n",
    "        "
   ]
  },
  {
   "cell_type": "code",
   "execution_count": 6,
   "metadata": {
    "collapsed": true
   },
   "outputs": [],
   "source": [
    "# Calculate the derivative of output neuron\n",
    "def deri_output(output, expected):\n",
    "    transf1 = output * (1 - output)\n",
    "    transf = transf1 * (expected - output)\n",
    "    return transf"
   ]
  },
  {
   "cell_type": "code",
   "execution_count": 7,
   "metadata": {
    "collapsed": true
   },
   "outputs": [],
   "source": [
    "# Calculating error\n",
    "def backward_propagate_error( weights1, output, out_hidden, expected):\n",
    "    error = deri_output(output,expected)\n",
    "    error_hid_int = weights1 *error\n",
    "    error_hid_sum = np.sum(error_hid_int, 0)\n",
    "    error_hid_sum_mat = np.array([error_hid_sum])    \n",
    "    out_hidden_int = out_hidden * (1 - out_hidden)\n",
    "    error_hidden = error_hid_sum_mat.T * out_hidden_int\n",
    "    return (error, error_hidden)\n",
    "    "
   ]
  },
  {
   "cell_type": "code",
   "execution_count": 8,
   "metadata": {
    "collapsed": true
   },
   "outputs": [],
   "source": [
    "# Updating the weights\n",
    "def update_weight (weight, weight1, l_rate, out_error, hid_error, out_hidden1, input1):\n",
    "    update_w_out_int = np.dot(out_hidden1,out_error.T)\n",
    "    update_w_out_trans = update_w_out_int.T\n",
    "    update_w_out_l = l_rate * update_w_out_trans\n",
    "    update_w_out = weight1 + update_w_out_l\n",
    "    update_w_hid_int = np.dot(input1,hid_error.T )\n",
    "    update_w_hid_trans = update_w_hid_int.T\n",
    "    update_w_hid_l = l_rate * update_w_hid_trans\n",
    "    update_w_hid = weight + update_w_hid_l\n",
    "    return (update_w_out, update_w_hid)\n",
    "    "
   ]
  },
  {
   "cell_type": "code",
   "execution_count": 9,
   "metadata": {
    "collapsed": true
   },
   "outputs": [],
   "source": [
    "# array for expected outputs\n",
    "expect_out = np.array(np.diag(np.ones(10)))"
   ]
  },
  {
   "cell_type": "code",
   "execution_count": 11,
   "metadata": {
    "scrolled": true
   },
   "outputs": [
    {
     "name": "stdout",
     "output_type": "stream",
     "text": [
      "0\n",
      "1\n",
      "2\n",
      "3\n",
      "4\n",
      "5\n",
      "6\n",
      "7\n",
      "8\n",
      "9\n",
      "10\n",
      "11\n",
      "12\n",
      "13\n",
      "14\n"
     ]
    }
   ],
   "source": [
    "error = list()\n",
    "# running the iterations for 10 times (10 epochs)\n",
    "for j in range(15):\n",
    "    error_sum = 0\n",
    "#   iterating through each row \n",
    "    for keys,row in df.iterrows():\n",
    "#     formatting the train data according to the weight matrix's dimension\n",
    "        label = row.iloc[0]\n",
    "        input1 = row.iloc[1:]\n",
    "#     Scaling the training data\n",
    "        input2 = np.array([input1])/255\n",
    "        input3 = input2.T    \n",
    "        input4 = np.concatenate((input3,[[1]]),0)\n",
    "#     calling the forward propagation \n",
    "        forward_out = forward_propagate(hidden_weights, output_weights, input4)\n",
    "#     assigning the ouput from output neurons\n",
    "        out_hidden = forward_out[1]\n",
    "#     assigning the output from hidden neurons\n",
    "        output = forward_out[0]\n",
    "#     assigning the ouput according to the label of the tain data\n",
    "        expect_mat = expect_out[label] \n",
    "        expected_output = np.array([expect_mat]).T\n",
    "#     calculating the total error for each row\n",
    "        error_one_row = ((expected_output - output)**2)/2\n",
    "#     adding the erorrs to find the total error of one epoch\n",
    "        error_sum += error_one_row\n",
    "#     formatting the weights(removing the bias weight for backward propagation)\n",
    "        numcol = len(output_weights[0])\n",
    "        output_weights1 = np.delete(output_weights, numcol - 1, 1)\n",
    "#     calulating the errors after backward propagation\n",
    "        errors_p = backward_propagate_error(output_weights1, output, out_hidden, expected_output)\n",
    "#     assigning the output error and hidden error\n",
    "        out_error = errors_p[0]\n",
    "        hid_error = errors_p[1]\n",
    "#     formatting the hidden layer ouputs(for bias)\n",
    "        out_hidden1 =  np.concatenate((out_hidden,[[1]]),0)\n",
    "#     learning rate\n",
    "        l_rate = 0.5\n",
    "#     updating the weights\n",
    "        update_weight_one = update_weight(hidden_weights, output_weights, l_rate, out_error, hid_error, out_hidden1, input4)\n",
    "# assigning the updated weights\n",
    "        output_weights = update_weight_one[0]\n",
    "        hidden_weights = update_weight_one[1]\n",
    "# adding the total error of network after one network to the list\n",
    "    error.append(error_sum)\n",
    "# shuffling the training data\n",
    "    df = df.sample(frac=1)\n",
    "    print(j)\n"
   ]
  },
  {
   "cell_type": "code",
   "execution_count": 12,
   "metadata": {
    "collapsed": true
   },
   "outputs": [],
   "source": [
    "error_all =list()\n",
    "for key, layer in enumerate(error):\n",
    "    err= np.sum(error[key])/40000\n",
    "    error_all.append(err)"
   ]
  },
  {
   "cell_type": "code",
   "execution_count": 13,
   "metadata": {},
   "outputs": [
    {
     "data": {
      "image/png": "[encoded data removed]",
      "text/plain": [
       "<matplotlib.figure.Figure at 0x28a7e4a6710>"
      ]
     },
     "metadata": {},
     "output_type": "display_data"
    }
   ],
   "source": [
    "# plotting the errors of network during training\n",
    "import matplotlib.pyplot as plt\n",
    "plt.plot(error_all)\n",
    "plt.show()"
   ]
  },
  {
   "cell_type": "code",
   "execution_count": 14,
   "metadata": {
    "collapsed": true
   },
   "outputs": [],
   "source": [
    "# passing the test data into the network\n",
    "pos_max = list()\n",
    "for keys,row in df2.iterrows():\n",
    "    data = row.iloc[0:]\n",
    "    data2 = np.array([data])/255\n",
    "    data3 = data2.T    \n",
    "    data4 = np.concatenate((data3,[[1]]),0)\n",
    "    forward_out = forward_propagate(hidden_weights, output_weights, data4)\n",
    "    output = forward_out[0]\n",
    "# finding the position of the maximum output in the list\n",
    "    pos_max_int = np.argmax(output)\n",
    "    pos_max.append(pos_max_int)"
   ]
  },
  {
   "cell_type": "code",
   "execution_count": 15,
   "metadata": {},
   "outputs": [
    {
     "data": {
      "text/plain": [
       "(1, 2000)"
      ]
     },
     "execution_count": 15,
     "metadata": {},
     "output_type": "execute_result"
    }
   ],
   "source": [
    "# converting into matrix form\n",
    "pos_max_mat = np.array([pos_max])\n",
    "pos_max_mat.shape"
   ]
  },
  {
   "cell_type": "code",
   "execution_count": 16,
   "metadata": {},
   "outputs": [
    {
     "data": {
      "text/plain": [
       "(1, 2000)"
      ]
     },
     "execution_count": 16,
     "metadata": {},
     "output_type": "execute_result"
    }
   ],
   "source": [
    "# extracting the labels of label_test\n",
    "label_test = np.array(df3).T\n",
    "label_test.shape"
   ]
  },
  {
   "cell_type": "code",
   "execution_count": 17,
   "metadata": {},
   "outputs": [
    {
     "data": {
      "text/plain": [
       "0.97299999999999998"
      ]
     },
     "execution_count": 17,
     "metadata": {},
     "output_type": "execute_result"
    }
   ],
   "source": [
    "# comparing the output with the label\n",
    "comparison = np.equal(pos_max_mat, label_test)\n",
    "np.sum(comparison)/2000"
   ]
  },
  {
   "cell_type": "code",
   "execution_count": null,
   "metadata": {
    "collapsed": true
   },
   "outputs": [],
   "source": []
  }
 ],
 "metadata": {
  "kernelspec": {
   "display_name": "Python [conda env:anaconda2]",
   "language": "python",
   "name": "conda-env-anaconda2-py"
  },
  "language_info": {
   "codemirror_mode": {
    "name": "ipython",
    "version": 2
   },
   "file_extension": ".py",
   "mimetype": "text/x-python",
   "name": "python",
   "nbconvert_exporter": "python",
   "pygments_lexer": "ipython2",
   "version": "2.7.14"
  }
 },
 "nbformat": 4,
 "nbformat_minor": 2
}
